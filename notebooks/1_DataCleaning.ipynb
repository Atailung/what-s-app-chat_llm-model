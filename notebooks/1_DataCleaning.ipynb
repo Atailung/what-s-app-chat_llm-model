{
 "cells": [
  {
   "cell_type": "markdown",
   "id": "16a5d639",
   "metadata": {},
   "source": [
    "\n",
    "Reading files\n",
    "\n",
    "We will read the .txt files line by line and apply these filters:\n",
    "\n",
    "    Remove lines containing a WhatsApp encryption notice\n",
    "        ❌ Before: dd/mm/yyyy, hh:mm - Messages and calls are end-to-end encrypted. No one outside of this chat, not even WhatsApp, can read or listen to them. Tap to learn more.\n",
    "        ✅ After: (Removed)\n",
    "\n",
    "    Remove lines with <Media omitted>\n",
    "        ❌ Before: dd/mm/yyyy, hh:mm - Person: <Media omitted>\n",
    "        ✅ After: (Removed)\n",
    "\n",
    "    Remove lines containing email addresses\n",
    "        ❌ Before: dd/mm/yyyy, hh:mm - Person: example@gmail.com\n",
    "        ✅ After: (Removed)\n",
    "\n",
    "    Remove lines containing links\n",
    "        ❌ Before: dd/mm/yyyy, hh:mm - Person: https://www.example.com/\n",
    "        ✅ After: (Removed)\n",
    "\n",
    "    Replace <This message was edited> with an empty string\n",
    "        ❌ Before: dd/mm/yyyy, hh:mm - Person: hey, how are you? <This message was edited>\n",
    "        ✅ After: dd/mm/yyyy, hh:mm - Person: hey, how are you?\n",
    "\n",
    "    Remove lines with the text You deleted this message\n",
    "        ❌ Before: dd/mm/yyyy, hh:mm - Person: You deleted this message\n",
    "        ✅ After: (Removed)\n",
    "\n",
    "    Remove lines with the text null\n",
    "        ❌ Before: dd/mm/yyyy, hh:mm - Person: null\n",
    "        ✅ After: (Removed)\n",
    "\n",
    "    Remove lines with the text created group\n",
    "        ❌ Before: dd/mm/yyyy, hh:mm - Person created group \"group name\"\n",
    "        ✅ After: (Removed)\n",
    "\n",
    "    Remove lines with the text added you\n",
    "        ❌ Before: dd/mm/yyyy, hh:mm - Person added you\n",
    "        ✅ After: (Removed)\n",
    "\n",
    "    Replace tagging (@person) with an empty string\n",
    "\n",
    "    ❌ Before: dd/mm/yyyy, hh:mm - Person: @person are you coming?\n",
    "    ✅ After: dd/mm/yyyy, hh:mm - Person: are you coming?\n",
    "\n"
   ]
  },
  {
   "cell_type": "code",
   "execution_count": 2,
   "id": "ef3f5c5b",
   "metadata": {},
   "outputs": [],
   "source": [
    "import re \n",
    "import pandas as pd\n",
    "import os"
   ]
  },
  {
   "cell_type": "code",
   "execution_count": 3,
   "id": "c06a8b9a",
   "metadata": {},
   "outputs": [],
   "source": [
    "def read_whatsapp_chat(file_path : str ) -> pd.DataFrame:\n",
    "    # desfine filtering pattens(remove lines contianing a whatsapp encryption notice)\n",
    "    encryption_message = \"Messages and calls are end-to-end encrypted. No one outside of this chat, not even WhatsApp, can read or listen to them. Tap to learn more.\"\n",
    "    # remove lines with <media ommited>\n",
    "    media_pattern = \"<Media omitted>\"\n",
    "    # remove lines containing email addresss\n",
    "    email_pattern = r'[A-Za-z0-9._%+-]+@[A-Za-z0-9.-]+\\.[A-Z|a-z]{2,}'\n",
    "    # remove lines containg links\n",
    "    url_pattern = r'http[s]?://(?:[a-zA-Z]|[0-9]|[$-_@.&+]|[!*\\(\\),]|(?:%[0-9a-fA-F][0-9a-fA-F]))+'\n",
    "    # Repalce <This message was edited> with an empty string\n",
    "    edited_message = \"<This message was edited>\"\n",
    "    # Remove lines with the text You deleted this meaasge\n",
    "    deleted_message = \"You deleted this message\"\n",
    "    # Remove lines with  text null\n",
    "    null_message = \"null\"\n",
    "    # Remove lines with the text created group\n",
    "    created_group_message = \"created group\"\n",
    "    # remove lines with text added you \n",
    "    added_you_to_group_message = \"added you\"\n",
    "    # replace the taaging (@person) with an empty string \n",
    "    tagging_pattern = r'@[\\w\\._%+-]+'\n",
    "    \n",
    "    with open(file_path, 'r', encoding='utf-8') as f:\n",
    "        lines = f.readlines()\n",
    "    # apply filter to remove uneanted lines\n",
    "    filtered_lines = []\n",
    "    for line in lines:\n",
    "        if (\n",
    "            encryption_message not in line and\n",
    "            deleted_message not in line and\n",
    "            null_message != line.split(\" \")[-1] and\n",
    "            media_pattern not in line and\n",
    "            created_group_message not in line and\n",
    "            added_you_to_group_message not in line and\n",
    "            not re.search(email_pattern, line) and\n",
    "            not re.search(url_pattern, line)\n",
    "        ):\n",
    "            line = line.replace(edited_message, \"\").strip()\n",
    "            line = re.sub(tagging_pattern, \"\", line).strip()\n",
    "            filtered_lines.append(line)\n",
    "    # Regular expresssion to match whatsapp message format\n",
    "    pattern = r'(\\d{1,2}/\\d{1,2}/\\d{2,4}, \\d{1,2}:\\d{2}(?:\\s?[AP]M)?) - (.*?): (.*?)(?=\\n\\d{1,2}/\\d{1,2}/\\d{2,4}, \\d{1,2}:\\d{2}(?:\\s?[AP]M)? -|$)'\n",
    "    content = '\\n'.join(filtered_lines)\n",
    "    messages = re.findall(pattern, content, re.DOTALL)\n",
    "    df = pd.DataFrame(messages, columns=['timestamp', 'sender', 'message'])\n",
    "    \n",
    "    if not df.empty:\n",
    "        # Try parsing with multiple formats\n",
    "        df['timestamp'] = pd.to_datetime(\n",
    "            df['timestamp'],\n",
    "            format='%m/%d/%y, %I:%M %p',  # For M/DD/YY, H:MM AM/PM\n",
    "            errors='coerce'\n",
    "        )\n",
    "        # Try alternative format if parsing fails\n",
    "        df['timestamp'] = df['timestamp'].combine_first(\n",
    "            pd.to_datetime(\n",
    "                df['timestamp'],\n",
    "                format='%d/%m/%Y, %H:%M',  # For DD/MM/YYYY, HH:MM\n",
    "                errors='coerce'\n",
    "            )\n",
    "        )\n",
    "    return df\n"
   ]
  },
  {
   "cell_type": "markdown",
   "id": "fe3e7887",
   "metadata": {},
   "source": [
    "The all_chats dictionary holds the content of each file as a dataframe with three columns: timestamp, sender, and message."
   ]
  },
  {
   "cell_type": "code",
   "execution_count": 4,
   "id": "4b564ae7",
   "metadata": {},
   "outputs": [],
   "source": [
    "from pathlib import Path\n",
    "\n",
    "all_chats = {}\n",
    "data_directory = Path(\"../Data/ptivate\")\n",
    "for file in data_directory.glob('*.txt'):\n",
    "    file_name = file.stem\n",
    "    all_chats[file_name] = read_whatsapp_chat(file)\n"
   ]
  },
  {
   "cell_type": "markdown",
   "id": "031b1c22",
   "metadata": {},
   "source": [
    "\n",
    "Text sequence\n",
    "\n",
    "The text should be merged into a single sequence to prepare it for the next step, where the BPE algorithm will be applied and the text will be encoded.\n"
   ]
  },
  {
   "cell_type": "code",
   "execution_count": 6,
   "id": "0666c986",
   "metadata": {},
   "outputs": [
    {
     "name": "stdout",
     "output_type": "stream",
     "text": [
      "Total combined characters: 12379\n"
     ]
    }
   ],
   "source": [
    "text_sequence = \"\"\n",
    "for file_name, df in all_chats.items():\n",
    "    if not df.empty:\n",
    "        text_sequence += \" \".join(df['message'].dropna().values) + \" \"\n",
    "\n",
    "print(f\"Total combined characters: {len(text_sequence)}\")\n",
    "\n",
    "# Save to file\n",
    "output_path = \"../output\"\n",
    "os.makedirs(output_path, exist_ok=True)\n",
    "\n",
    "with open(os.path.join(output_path, \"combined_text.tex\"), \"w\", encoding='utf-8') as f:\n",
    "    f.write(text_sequence)\n"
   ]
  },
  {
   "cell_type": "code",
   "execution_count": null,
   "id": "cd4afc08",
   "metadata": {},
   "outputs": [],
   "source": []
  }
 ],
 "metadata": {
  "kernelspec": {
   "display_name": "venv",
   "language": "python",
   "name": "python3"
  },
  "language_info": {
   "codemirror_mode": {
    "name": "ipython",
    "version": 3
   },
   "file_extension": ".py",
   "mimetype": "text/x-python",
   "name": "python",
   "nbconvert_exporter": "python",
   "pygments_lexer": "ipython3",
   "version": "3.12.9"
  }
 },
 "nbformat": 4,
 "nbformat_minor": 5
}
