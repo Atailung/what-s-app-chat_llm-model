{
 "cells": [
  {
   "cell_type": "markdown",
   "id": "afe0d8db",
   "metadata": {},
   "source": [
    "Load the sequence"
   ]
  },
  {
   "cell_type": "code",
   "execution_count": 3,
   "id": "84f2ffc7",
   "metadata": {},
   "outputs": [
    {
     "data": {
      "text/plain": [
       "12379"
      ]
     },
     "execution_count": 3,
     "metadata": {},
     "output_type": "execute_result"
    }
   ],
   "source": [
    "with open(\"../output/combined_text.tex\", \"r\", encoding=\"utf-8\") as f:\n",
    "    text_sequence = f.read()\n",
    "len(text_sequence)"
   ]
  },
  {
   "cell_type": "markdown",
   "id": "e9b5d4e3",
   "metadata": {},
   "source": [
    "BPE algorithm: byte pair encoding tokenizaton. for encoding string of text into smaller strings by creating and using a translation table. \n",
    "\n",
    "I am using the minbpe repo to tokenize the aquence of text. "
   ]
  },
  {
   "cell_type": "code",
   "execution_count": 4,
   "id": "4a36da3c",
   "metadata": {},
   "outputs": [],
   "source": [
    "import sys\n",
    "sys.path.append('..')"
   ]
  },
  {
   "cell_type": "markdown",
   "id": "e47be68e",
   "metadata": {},
   "source": [
    "Start by training the tokenizer on the text sequence that you saved in the previous notebook."
   ]
  },
  {
   "cell_type": "code",
   "execution_count": 9,
   "id": "2fbedd5d",
   "metadata": {},
   "outputs": [],
   "source": [
    "from minbpe import BasicTokenizer\n",
    "tokenizer = BasicTokenizer()\n",
    "tokenizer.train(text_sequence, vocab_size=1024)"
   ]
  },
  {
   "cell_type": "markdown",
   "id": "fbc74450",
   "metadata": {},
   "source": [
    "Visualize the vocabulary."
   ]
  },
  {
   "cell_type": "code",
   "execution_count": 10,
   "id": "0eeebc73",
   "metadata": {},
   "outputs": [
    {
     "name": "stdout",
     "output_type": "stream",
     "text": [
      "Vocabulary size: 1024\n"
     ]
    }
   ],
   "source": [
    "vocab = tokenizer.vocab\n",
    "vocab_size = len(vocab)\n",
    "print(f\"Vocabulary size: {vocab_size}\")"
   ]
  },
  {
   "cell_type": "markdown",
   "id": "5db8afd4",
   "metadata": {},
   "source": [
    "Test the tokenizer."
   ]
  },
  {
   "cell_type": "code",
   "execution_count": null,
   "id": "c81cd011",
   "metadata": {},
   "outputs": [
    {
     "data": {
      "text/plain": [
       "[65, 114, 289, 32, 65, 121, 334, 104]"
      ]
     },
     "execution_count": 11,
     "metadata": {},
     "output_type": "execute_result"
    }
   ],
   "source": [
    "tokenizer.encode(\"Arun Ayush\")\n"
   ]
  },
  {
   "cell_type": "code",
   "execution_count": 13,
   "id": "ba4ae8da",
   "metadata": {},
   "outputs": [
    {
     "data": {
      "text/plain": [
       "'Arun Ayush'"
      ]
     },
     "execution_count": 13,
     "metadata": {},
     "output_type": "execute_result"
    }
   ],
   "source": [
    "tokenizer.decode([65, 114, 289, 32, 65, 121, 334, 104])"
   ]
  },
  {
   "cell_type": "markdown",
   "id": "4c80ec1a",
   "metadata": {},
   "source": [
    "Add special tokens to the vocabulary. These tokens are going to be used a lot in the fine-tuning step."
   ]
  },
  {
   "cell_type": "code",
   "execution_count": 14,
   "id": "39eb9c31",
   "metadata": {},
   "outputs": [],
   "source": [
    "max_vocab_id = list(tokenizer.vocab.keys())[-1]\n",
    "tokenizer.special_tokens = {\n",
    "    \"<|startoftext|>\": max_vocab_id + 1,\n",
    "    \"<|separator|>\": max_vocab_id + 2,\n",
    "    \"<|endoftext|>\": max_vocab_id + 3,\n",
    "    \"<|unk|>\": max_vocab_id + 4\n",
    "}"
   ]
  },
  {
   "cell_type": "markdown",
   "id": "8f4a3d37",
   "metadata": {},
   "source": [
    "tokenizer.special_tokens = {\n",
    "    \"<|startoftext|>\": max_vocab_id + 1,\n",
    "    \"<|separator|>\": max_vocab_id + 2,\n",
    "    \"<|endoftext|>\": max_vocab_id + 3,\n",
    "    \"<|unk|>\": max_vocab_id + 4\n",
    "}\n",
    "This is defining special-use tokens with IDs that won't conflict with existing tokens in the vocab."
   ]
  },
  {
   "cell_type": "markdown",
   "id": "0816bd72",
   "metadata": {},
   "source": [
    "Finding the max ID in the current vocab.\n",
    "\n",
    "Creating 4 custom tokens after that ID.\n",
    "\n",
    "Ensuring they don’t conflict with existing tokens."
   ]
  },
  {
   "cell_type": "code",
   "execution_count": 15,
   "id": "878c4e67",
   "metadata": {},
   "outputs": [
    {
     "data": {
      "text/plain": [
       "4113"
      ]
     },
     "execution_count": 15,
     "metadata": {},
     "output_type": "execute_result"
    }
   ],
   "source": [
    "len(tokenizer.encode(text_sequence))"
   ]
  },
  {
   "cell_type": "markdown",
   "id": "f656768a",
   "metadata": {},
   "source": [
    "I have more than 4113 tokens for training and validation. This is pretty good for our initial point, but if you can add more, that would be even better."
   ]
  },
  {
   "cell_type": "code",
   "execution_count": 17,
   "id": "470888f6",
   "metadata": {},
   "outputs": [],
   "source": [
    "import os\n",
    "\n",
    "os.makedirs(\"../output/tokenizer\", exist_ok=True)\n",
    "tokenizer.save(file_prefix=\"../output/tokenizer/my_tokenizer\")\n"
   ]
  },
  {
   "cell_type": "code",
   "execution_count": null,
   "id": "9c678c59",
   "metadata": {},
   "outputs": [],
   "source": []
  }
 ],
 "metadata": {
  "kernelspec": {
   "display_name": "venv",
   "language": "python",
   "name": "python3"
  },
  "language_info": {
   "codemirror_mode": {
    "name": "ipython",
    "version": 3
   },
   "file_extension": ".py",
   "mimetype": "text/x-python",
   "name": "python",
   "nbconvert_exporter": "python",
   "pygments_lexer": "ipython3",
   "version": "3.12.9"
  }
 },
 "nbformat": 4,
 "nbformat_minor": 5
}
